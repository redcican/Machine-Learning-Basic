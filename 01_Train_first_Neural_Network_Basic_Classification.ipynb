{
  "nbformat": 4,
  "nbformat_minor": 0,
  "metadata": {
    "colab": {
      "name": "01_Train first Neural Network Basic Classification.ipynb",
      "version": "0.3.2",
      "provenance": [],
      "collapsed_sections": [],
      "include_colab_link": true
    },
    "kernelspec": {
      "name": "python3",
      "display_name": "Python 3"
    },
    "accelerator": "GPU"
  },
  "cells": [
    {
      "cell_type": "markdown",
      "metadata": {
        "id": "view-in-github",
        "colab_type": "text"
      },
      "source": [
        "[View in Colaboratory](https://colab.research.google.com/github/redcican/Machine-Learning-Basic/blob/master/01_Train_first_Neural_Network_Basic_Classification.ipynb)"
      ]
    },
    {
      "metadata": {
        "id": "Yv8cuw5kThaz",
        "colab_type": "text"
      },
      "cell_type": "markdown",
      "source": [
        "This guide trains a neural network model to classify images of clothing, like sneakers and shirts.\n",
        "\n",
        "This guide uses tf.keras, a high-level API to build and train model in TensorFlow"
      ]
    },
    {
      "metadata": {
        "id": "Drv2Fj3vTTuS",
        "colab_type": "code",
        "colab": {
          "base_uri": "https://localhost:8080/",
          "height": 34
        },
        "outputId": "37111a6c-a5f6-46f5-a46f-9c076abdc2b7"
      },
      "cell_type": "code",
      "source": [
        "import tensorflow as tf\n",
        "from tensorflow import keras\n",
        "\n",
        "import numpy as np\n",
        "import matplotlib.pyplot as plt\n",
        "\n",
        "print(tf.__version__)"
      ],
      "execution_count": 1,
      "outputs": [
        {
          "output_type": "stream",
          "text": [
            "1.9.0\n"
          ],
          "name": "stdout"
        }
      ]
    },
    {
      "metadata": {
        "id": "QJSEyYV3UCdN",
        "colab_type": "text"
      },
      "cell_type": "markdown",
      "source": [
        "## 1. Import the Fashion MNIST dataset"
      ]
    },
    {
      "metadata": {
        "id": "F4-VrC5tUHc7",
        "colab_type": "text"
      },
      "cell_type": "markdown",
      "source": [
        "This guide uses the Fashion MNIST dataset which contains 70,000 grayscale images in 10 categorical. The images show ! The images show individual articles of clothing at low resolution ($28 \\times 28$)"
      ]
    },
    {
      "metadata": {
        "id": "CFZPP5HxUk45",
        "colab_type": "text"
      },
      "cell_type": "markdown",
      "source": [
        "![Fashion MNIST](https://tensorflow.org/images/fashion-mnist-sprite.png)"
      ]
    },
    {
      "metadata": {
        "id": "lKGexM7SU9I7",
        "colab_type": "text"
      },
      "cell_type": "markdown",
      "source": [
        "This guide uses Fashion MNIST for variety, and because it is a slightly more challenging problem than regular MNIST. Both datasets are relatively small and are used to verify an algorithm works as expected. They are good starting points to test and debug code. \n",
        "\n",
        "We will use 60,000 images to train the network and 10,000 images to evaluate how accurately the network learned to classify images."
      ]
    },
    {
      "metadata": {
        "id": "2dO-im6PUA24",
        "colab_type": "code",
        "colab": {
          "base_uri": "https://localhost:8080/",
          "height": 151
        },
        "outputId": "9960b1a9-0d2b-4d90-ce6c-2688da968618"
      },
      "cell_type": "code",
      "source": [
        "fashion_mnist = keras.datasets.fashion_mnist\n",
        "\n",
        "(train_images, train_labels),(test_images,test_labels) = fashion_mnist.load_data()"
      ],
      "execution_count": 2,
      "outputs": [
        {
          "output_type": "stream",
          "text": [
            "Downloading data from http://fashion-mnist.s3-website.eu-central-1.amazonaws.com/train-labels-idx1-ubyte.gz\n",
            "32768/29515 [=================================] - 0s 0us/step\n",
            "Downloading data from http://fashion-mnist.s3-website.eu-central-1.amazonaws.com/train-images-idx3-ubyte.gz\n",
            "26427392/26421880 [==============================] - 1s 0us/step\n",
            "Downloading data from http://fashion-mnist.s3-website.eu-central-1.amazonaws.com/t10k-labels-idx1-ubyte.gz\n",
            "8192/5148 [===============================================] - 0s 0us/step\n",
            "Downloading data from http://fashion-mnist.s3-website.eu-central-1.amazonaws.com/t10k-images-idx3-ubyte.gz\n",
            "4423680/4422102 [==============================] - 0s 0us/step\n"
          ],
          "name": "stdout"
        }
      ]
    },
    {
      "metadata": {
        "id": "R49i610SVijs",
        "colab_type": "text"
      },
      "cell_type": "markdown",
      "source": [
        "Loading the dataset returns 4 NumPy arrays:\n",
        "\n",
        "\n",
        "*   The train_images and train_labels arrays are the training set -- the data the model uses to learn\n",
        "*   The model is tested agaist the test set, the test_images, and test_labels arrays.\n",
        "\n"
      ]
    },
    {
      "metadata": {
        "id": "HoUmA77uV5Cf",
        "colab_type": "text"
      },
      "cell_type": "markdown",
      "source": [
        "Each image is mapped to a single label. Since the class names are not included with the dataset, store them here to use later when plotting the images."
      ]
    },
    {
      "metadata": {
        "id": "QIgNXtAAVfw6",
        "colab_type": "code",
        "colab": {}
      },
      "cell_type": "code",
      "source": [
        "class_names = ['T-shirt/top','Trouser','Pullover','Dress','Coat',\n",
        "              'Sandal','Shirt','Sneaker','Bag','Ankle boot']"
      ],
      "execution_count": 0,
      "outputs": []
    },
    {
      "metadata": {
        "id": "WwVlg6mQWOR9",
        "colab_type": "text"
      },
      "cell_type": "markdown",
      "source": [
        "## 2. Explore the data"
      ]
    },
    {
      "metadata": {
        "id": "NC_EWlEuWLkZ",
        "colab_type": "code",
        "colab": {
          "base_uri": "https://localhost:8080/",
          "height": 34
        },
        "outputId": "d209b18d-faaa-4005-9daf-6cbc122b7620"
      },
      "cell_type": "code",
      "source": [
        "print('training images shape {}'.format(train_images.shape))"
      ],
      "execution_count": 4,
      "outputs": [
        {
          "output_type": "stream",
          "text": [
            "training images shape (60000, 28, 28)\n"
          ],
          "name": "stdout"
        }
      ]
    },
    {
      "metadata": {
        "id": "h3mAdYNAWbmN",
        "colab_type": "code",
        "colab": {
          "base_uri": "https://localhost:8080/",
          "height": 34
        },
        "outputId": "586a0f1c-1e61-4385-f7be-c48ba62029fa"
      },
      "cell_type": "code",
      "source": [
        "print('training label length {}'.format(len(train_labels)))"
      ],
      "execution_count": 5,
      "outputs": [
        {
          "output_type": "stream",
          "text": [
            "training label length 60000\n"
          ],
          "name": "stdout"
        }
      ]
    },
    {
      "metadata": {
        "id": "El9eWWM7Wn5R",
        "colab_type": "code",
        "colab": {
          "base_uri": "https://localhost:8080/",
          "height": 34
        },
        "outputId": "f5f910f0-d9a7-458b-e3cb-e7be7b8c48d5"
      },
      "cell_type": "code",
      "source": [
        "train_labels"
      ],
      "execution_count": 6,
      "outputs": [
        {
          "output_type": "execute_result",
          "data": {
            "text/plain": [
              "array([9, 0, 0, ..., 3, 0, 5], dtype=uint8)"
            ]
          },
          "metadata": {
            "tags": []
          },
          "execution_count": 6
        }
      ]
    },
    {
      "metadata": {
        "id": "GY6ob_zxW12_",
        "colab_type": "code",
        "colab": {
          "base_uri": "https://localhost:8080/",
          "height": 34
        },
        "outputId": "8ea10331-a241-4d20-e6ea-61fefca04b40"
      },
      "cell_type": "code",
      "source": [
        "print('testing images shape {}'.format(test_images.shape))"
      ],
      "execution_count": 7,
      "outputs": [
        {
          "output_type": "stream",
          "text": [
            "testing images shape (10000, 28, 28)\n"
          ],
          "name": "stdout"
        }
      ]
    },
    {
      "metadata": {
        "id": "tzHjrDG6W88S",
        "colab_type": "code",
        "colab": {
          "base_uri": "https://localhost:8080/",
          "height": 34
        },
        "outputId": "afc31101-e5f7-4f1e-aa32-fe372238834a"
      },
      "cell_type": "code",
      "source": [
        "print('testing label length {}'.format(len(test_labels)))"
      ],
      "execution_count": 8,
      "outputs": [
        {
          "output_type": "stream",
          "text": [
            "testing label length 10000\n"
          ],
          "name": "stdout"
        }
      ]
    },
    {
      "metadata": {
        "id": "GBtgecIBXBOB",
        "colab_type": "text"
      },
      "cell_type": "markdown",
      "source": [
        "## 3. Preprocessing the data"
      ]
    },
    {
      "metadata": {
        "id": "xEiOKZRfXEJr",
        "colab_type": "text"
      },
      "cell_type": "markdown",
      "source": [
        "The data must be preprocessed before training the network."
      ]
    },
    {
      "metadata": {
        "id": "DEaJ7y39XAQZ",
        "colab_type": "code",
        "colab": {
          "base_uri": "https://localhost:8080/",
          "height": 347
        },
        "outputId": "db86c81a-d7e2-4503-ea4e-185dc2c97bb0"
      },
      "cell_type": "code",
      "source": [
        "plt.figure()\n",
        "plt.imshow(train_images[1])\n",
        "plt.colorbar()\n",
        "plt.gca().grid(False)"
      ],
      "execution_count": 10,
      "outputs": [
        {
          "output_type": "display_data",
          "data": {
            "image/png": "[encoded data removed]",
            "text/plain": [
              "<matplotlib.figure.Figure at 0x7f12567287f0>"
            ]
          },
          "metadata": {
            "tags": []
          }
        }
      ]
    },
    {
      "metadata": {
        "id": "fN6INnCBXif9",
        "colab_type": "text"
      },
      "cell_type": "markdown",
      "source": [
        "We scale these values to a range of 0 to 1 before feeding to the neural network model. For this, cast the datatype of the image components from an integer to a float, and divide by 255. It's import that the training set and testing set are preprocessed in the same way."
      ]
    },
    {
      "metadata": {
        "id": "Y3CcOc6EXP-u",
        "colab_type": "code",
        "colab": {}
      },
      "cell_type": "code",
      "source": [
        "train_images = train_images / 255.0\n",
        "test_images = test_images / 255.0"
      ],
      "execution_count": 0,
      "outputs": []
    },
    {
      "metadata": {
        "id": "MtDhsPWUX4Ph",
        "colab_type": "text"
      },
      "cell_type": "markdown",
      "source": [
        "Display the first 25 images from the training set and display the class name below each image. Verify that the data is in the correct format."
      ]
    },
    {
      "metadata": {
        "id": "_w0Vmoh0X2u_",
        "colab_type": "code",
        "colab": {
          "base_uri": "https://localhost:8080/",
          "height": 589
        },
        "outputId": "a3cac318-6729-4feb-daf7-bbaaa62b2488"
      },
      "cell_type": "code",
      "source": [
        "%matplotlib inline\n",
        "\n",
        "plt.figure(figsize=(10,10))\n",
        "for i in range(25):\n",
        "    plt.subplot(5,5,i+1)\n",
        "    plt.xticks([])\n",
        "    plt.yticks([])\n",
        "    plt.grid('off')\n",
        "    plt.imshow(train_images[i],cmap=plt.cm.binary)\n",
        "    plt.xlabel(class_names[train_labels[i]])"
      ],
      "execution_count": 13,
      "outputs": [
        {
          "output_type": "display_data",
          "data": {
            "image/png": "[encoded data removed]",
            "text/plain": [
              "<matplotlib.figure.Figure at 0x7f12541846d8>"
            ]
          },
          "metadata": {
            "tags": []
          }
        }
      ]
    },
    {
      "metadata": {
        "id": "73BDrv9xYoKV",
        "colab_type": "text"
      },
      "cell_type": "markdown",
      "source": [
        "## 4. Build the Model"
      ]
    },
    {
      "metadata": {
        "id": "dK1TvF6uYsDw",
        "colab_type": "text"
      },
      "cell_type": "markdown",
      "source": [
        "Build the neural network requires configuring the layers of the model, then compiling the model."
      ]
    },
    {
      "metadata": {
        "id": "wXk9UNWiaL4s",
        "colab_type": "text"
      },
      "cell_type": "markdown",
      "source": [
        "### 4.1 Setup the layers"
      ]
    },
    {
      "metadata": {
        "id": "51EYfy_6Ybf5",
        "colab_type": "code",
        "colab": {}
      },
      "cell_type": "code",
      "source": [
        "model = keras.Sequential([\n",
        "    keras.layers.Flatten(input_shape=(28,28)),\n",
        "    keras.layers.Dense(128, activation=tf.nn.relu),\n",
        "    keras.layers.Dense(10, activation=tf.nn.softmax)\n",
        "])"
      ],
      "execution_count": 0,
      "outputs": []
    },
    {
      "metadata": {
        "id": "aUn2O80CZNm9",
        "colab_type": "text"
      },
      "cell_type": "markdown",
      "source": [
        "The first layer in this network,` tf.keras.layers.Flatten` transforms the format of the images from a 2d-array ( of $28 \\times 28$ pixels), to a 1d-array of $28 \\times 28 = 784$ pixels. Think of this layer as unstacking rows of pixels in the image and lining them up. This layer has no parameters to learn; it only reformats the data."
      ]
    },
    {
      "metadata": {
        "id": "A4leaVDQZrBP",
        "colab_type": "text"
      },
      "cell_type": "markdown",
      "source": [
        "Afer the pixels are flattend, the network consists of a sequence of two `tf.keras.layers.Dense` layers has 128 nodes (or neurons). The last layer is 10-node *softmax* layer - this returns an array of 10 probability scores that sum to 1. Each node contains a score that indicates the probability that the current image belongs to one of the 10 classes."
      ]
    },
    {
      "metadata": {
        "id": "779tj607aOi3",
        "colab_type": "text"
      },
      "cell_type": "markdown",
      "source": [
        "### 4.2 Compile the model"
      ]
    },
    {
      "metadata": {
        "id": "UD78Ga6paSkT",
        "colab_type": "text"
      },
      "cell_type": "markdown",
      "source": [
        "Before the model is ready for training, it needs a few more settings. These are added during the model's compile step: \n",
        "\n",
        "\n",
        "*   Loss function - This measures how accurate the model is during training. We want to minimize this function to \"steer\" the model in the right directioin.\n",
        "*   Optimizer - This is how the model is updated based on the data it sees and its loss function\n",
        "*   Metrics - Used to monitor the training and testing steps. \n"
      ]
    },
    {
      "metadata": {
        "id": "FkYHKlMxZIQd",
        "colab_type": "code",
        "colab": {}
      },
      "cell_type": "code",
      "source": [
        "model.compile(optimizer=tf.train.AdadeltaOptimizer(),\n",
        "             loss='sparse_categorical_crossentropy',\n",
        "             metrics=['accuracy'])"
      ],
      "execution_count": 0,
      "outputs": []
    },
    {
      "metadata": {
        "id": "hGES8zv3a5_y",
        "colab_type": "text"
      },
      "cell_type": "markdown",
      "source": [
        "### 4.3 Train the model"
      ]
    },
    {
      "metadata": {
        "id": "WRQJqACba9Rb",
        "colab_type": "text"
      },
      "cell_type": "markdown",
      "source": [
        "Training the neural network model requires the following steps:\n",
        "\n",
        "\n",
        "\n",
        "1.   Feed the training data to the model. in this example, the train_images and train_labels arrays\n",
        "2.   The model learns to associate images and labels\n",
        "3.    We ask the model to make predictions about a test set-in this example, the test-images array. We verify that the predictions match the labels from the test_labels array\n",
        "\n"
      ]
    },
    {
      "metadata": {
        "id": "PmwB_NRca4av",
        "colab_type": "code",
        "colab": {
          "base_uri": "https://localhost:8080/",
          "height": 370
        },
        "outputId": "582f5df7-ed72-49f7-f893-1b350ea3fd1c"
      },
      "cell_type": "code",
      "source": [
        "model.fit(train_images,train_labels, epochs=10)"
      ],
      "execution_count": 16,
      "outputs": [
        {
          "output_type": "stream",
          "text": [
            "Epoch 1/10\n",
            "60000/60000 [==============================] - 6s 108us/step - loss: 2.3297 - acc: 0.1424\n",
            "Epoch 2/10\n",
            "60000/60000 [==============================] - 6s 94us/step - loss: 2.1292 - acc: 0.2120\n",
            "Epoch 3/10\n",
            "60000/60000 [==============================] - 6s 93us/step - loss: 1.9873 - acc: 0.2832\n",
            "Epoch 4/10\n",
            "60000/60000 [==============================] - 6s 93us/step - loss: 1.8752 - acc: 0.3854\n",
            "Epoch 5/10\n",
            "60000/60000 [==============================] - 6s 92us/step - loss: 1.7812 - acc: 0.4665\n",
            "Epoch 6/10\n",
            "60000/60000 [==============================] - 6s 92us/step - loss: 1.6991 - acc: 0.5192\n",
            "Epoch 7/10\n",
            "60000/60000 [==============================] - 6s 92us/step - loss: 1.6253 - acc: 0.5593\n",
            "Epoch 8/10\n",
            "60000/60000 [==============================] - 6s 93us/step - loss: 1.5583 - acc: 0.5871\n",
            "Epoch 9/10\n",
            "60000/60000 [==============================] - 6s 92us/step - loss: 1.4975 - acc: 0.6082\n",
            "Epoch 10/10\n",
            "60000/60000 [==============================] - 6s 92us/step - loss: 1.4422 - acc: 0.6248\n"
          ],
          "name": "stdout"
        },
        {
          "output_type": "execute_result",
          "data": {
            "text/plain": [
              "<tensorflow.python.keras.callbacks.History at 0x7f12533cad68>"
            ]
          },
          "metadata": {
            "tags": []
          },
          "execution_count": 16
        }
      ]
    },
    {
      "metadata": {
        "id": "vNeCjehrcAHV",
        "colab_type": "text"
      },
      "cell_type": "markdown",
      "source": [
        "As the model trains, the loss and accuracy metrics are displayed. This model reaches an accuracy of about 0.62 on the training data."
      ]
    },
    {
      "metadata": {
        "id": "hMtOGjVXcI_J",
        "colab_type": "text"
      },
      "cell_type": "markdown",
      "source": [
        "### 4.4 Evaluate accuracy"
      ]
    },
    {
      "metadata": {
        "id": "dmU3C-LLcL5d",
        "colab_type": "text"
      },
      "cell_type": "markdown",
      "source": [
        "Next, compare how the model performs on the test dataset"
      ]
    },
    {
      "metadata": {
        "id": "3e2BtxwVbeUA",
        "colab_type": "code",
        "colab": {
          "base_uri": "https://localhost:8080/",
          "height": 50
        },
        "outputId": "c7d4c3f2-3f47-4f7f-a223-1f0f9700032b"
      },
      "cell_type": "code",
      "source": [
        "test_loss, test_acc = model.evaluate(test_images,test_labels)\n",
        "print('Test accuracy:',test_acc)"
      ],
      "execution_count": 17,
      "outputs": [
        {
          "output_type": "stream",
          "text": [
            "10000/10000 [==============================] - 0s 47us/step\n",
            "Test accuracy: 0.6284\n"
          ],
          "name": "stdout"
        }
      ]
    },
    {
      "metadata": {
        "id": "k_aJLb0ccffL",
        "colab_type": "text"
      },
      "cell_type": "markdown",
      "source": [
        "### 4.5 Make predictions"
      ]
    },
    {
      "metadata": {
        "id": "fA8TMUu5ciRp",
        "colab_type": "text"
      },
      "cell_type": "markdown",
      "source": [
        "With the model trained, we can use it to make predictions about some images"
      ]
    },
    {
      "metadata": {
        "id": "B_erwXOBcZO7",
        "colab_type": "code",
        "colab": {}
      },
      "cell_type": "code",
      "source": [
        "predictions = model.predict(test_images)"
      ],
      "execution_count": 0,
      "outputs": []
    },
    {
      "metadata": {
        "id": "BUcA97qicq4B",
        "colab_type": "text"
      },
      "cell_type": "markdown",
      "source": [
        "Here, the model has predicted the label for each image in the testing set. "
      ]
    },
    {
      "metadata": {
        "id": "vDRxlIywcpMC",
        "colab_type": "code",
        "colab": {
          "base_uri": "https://localhost:8080/",
          "height": 67
        },
        "outputId": "c7676109-eb4f-4337-c808-63104be713e6"
      },
      "cell_type": "code",
      "source": [
        "predictions[0]"
      ],
      "execution_count": 19,
      "outputs": [
        {
          "output_type": "execute_result",
          "data": {
            "text/plain": [
              "array([0.04073562, 0.02026923, 0.07504299, 0.03317018, 0.03961883,\n",
              "       0.18327093, 0.05011577, 0.15945728, 0.15697908, 0.24134007],\n",
              "      dtype=float32)"
            ]
          },
          "metadata": {
            "tags": []
          },
          "execution_count": 19
        }
      ]
    },
    {
      "metadata": {
        "id": "FILQt7bic1Yb",
        "colab_type": "text"
      },
      "cell_type": "markdown",
      "source": [
        "A prediction is an array of 10 numbers. These describe the \"confidence\" of the model that the image corresponds to each of the 10 different articles of clothing. We can see which label has the highest confidence value."
      ]
    },
    {
      "metadata": {
        "id": "tq-maDeMcwBI",
        "colab_type": "code",
        "colab": {
          "base_uri": "https://localhost:8080/",
          "height": 34
        },
        "outputId": "8f8fdf6c-a5ee-4d3e-a06b-e947e3de7c16"
      },
      "cell_type": "code",
      "source": [
        "np.argmax(predictions[0])"
      ],
      "execution_count": 20,
      "outputs": [
        {
          "output_type": "execute_result",
          "data": {
            "text/plain": [
              "9"
            ]
          },
          "metadata": {
            "tags": []
          },
          "execution_count": 20
        }
      ]
    },
    {
      "metadata": {
        "id": "JnhDARdcdDjr",
        "colab_type": "code",
        "colab": {
          "base_uri": "https://localhost:8080/",
          "height": 589
        },
        "outputId": "3469aa5d-cc35-4fea-8577-a31e3f600f96"
      },
      "cell_type": "code",
      "source": [
        "# Plot the first 25 test images, their predicted label, and the true label\n",
        "# Color correct predictions in green. incorrect predictions in red\n",
        "\n",
        "plt.figure(figsize=(10,10))\n",
        "for i in range(25):\n",
        "    plt.subplot(5,5,i+1)\n",
        "    plt.xticks([])\n",
        "    plt.yticks([])\n",
        "    plt.grid('off')\n",
        "    plt.imshow(test_images[i],cmap=plt.cm.binary)\n",
        "    predicted_label = np.argmax(predictions[i])\n",
        "    true_label = test_labels[i]\n",
        "    \n",
        "    if predicted_label == true_label:\n",
        "        color = 'green'\n",
        "    else:\n",
        "        color = 'red'\n",
        "    plt.xlabel(\"{} ({})\".format(class_names[predicted_label],\n",
        "                               class_names[true_label]),\n",
        "                               color=color)"
      ],
      "execution_count": 21,
      "outputs": [
        {
          "output_type": "display_data",
          "data": {
            "image/png": "[encoded data removed]",
            "text/plain": [
              "<matplotlib.figure.Figure at 0x7f1238e4f908>"
            ]
          },
          "metadata": {
            "tags": []
          }
        }
      ]
    },
    {
      "metadata": {
        "id": "dCkWe-Sld3Sm",
        "colab_type": "code",
        "colab": {}
      },
      "cell_type": "code",
      "source": [
        ""
      ],
      "execution_count": 0,
      "outputs": []
    }
  ]
}