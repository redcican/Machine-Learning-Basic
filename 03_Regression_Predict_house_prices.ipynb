{
  "nbformat": 4,
  "nbformat_minor": 0,
  "metadata": {
    "colab": {
      "name": "03_Regression Predict house prices.ipynb",
      "version": "0.3.2",
      "provenance": [],
      "collapsed_sections": [],
      "include_colab_link": true
    },
    "kernelspec": {
      "name": "python3",
      "display_name": "Python 3"
    },
    "accelerator": "GPU"
  },
  "cells": [
    {
      "cell_type": "markdown",
      "metadata": {
        "id": "view-in-github",
        "colab_type": "text"
      },
      "source": [
        "[View in Colaboratory](https://colab.research.google.com/github/redcican/Machine-Learning-Basic/blob/master/03_Regression_Predict_house_prices.ipynb)"
      ]
    },
    {
      "metadata": {
        "id": "_BQN8lCokPSz",
        "colab_type": "text"
      },
      "cell_type": "markdown",
      "source": [
        "In a regression problem, we aim to predict the output of a continuous value, like a price or a probability. Contrast this with a classification problem, where we aim to predict a discrete label. \n",
        "\n",
        "This notebook builds a model to predict the median price of homes in a Boston suburb during the mid-1970s. To do this, we'll provide the model with some data points about the subsurb, such as the crime rate and the local property tax rate."
      ]
    },
    {
      "metadata": {
        "id": "xD-j36JHkAa6",
        "colab_type": "code",
        "colab": {
          "base_uri": "https://localhost:8080/",
          "height": 34
        },
        "outputId": "d4f904da-f670-46a1-e33d-afd1ce82a36c"
      },
      "cell_type": "code",
      "source": [
        "import tensorflow as tf\n",
        "from tensorflow import keras\n",
        "import numpy as np\n",
        "\n",
        "print(tf.__version__)"
      ],
      "execution_count": 1,
      "outputs": [
        {
          "output_type": "stream",
          "text": [
            "1.10.0\n"
          ],
          "name": "stdout"
        }
      ]
    },
    {
      "metadata": {
        "id": "S7ceMSv-kwwW",
        "colab_type": "text"
      },
      "cell_type": "markdown",
      "source": [
        "## 1. The Boston Housing Prices dataset"
      ]
    },
    {
      "metadata": {
        "id": "lm6S5n5Fkvbx",
        "colab_type": "code",
        "colab": {
          "base_uri": "https://localhost:8080/",
          "height": 50
        },
        "outputId": "27c5f08d-1b61-4b67-db29-35fd6a243071"
      },
      "cell_type": "code",
      "source": [
        "boston_housing = keras.datasets.boston_housing\n",
        "\n",
        "(train_data,train_labels),(test_data,test_labels) = boston_housing.load_data()"
      ],
      "execution_count": 2,
      "outputs": [
        {
          "output_type": "stream",
          "text": [
            "Downloading data from https://storage.googleapis.com/tensorflow/tf-keras-datasets/boston_housing.npz\n",
            "57344/57026 [==============================] - 0s 0us/step\n"
          ],
          "name": "stdout"
        }
      ]
    },
    {
      "metadata": {
        "id": "Iuk5tYo6k96K",
        "colab_type": "code",
        "colab": {}
      },
      "cell_type": "code",
      "source": [
        "# Shuffle the training data\n",
        "order = np.argsort(np.random.random(train_labels.shape))\n",
        "train_data = train_data[order]\n",
        "train_labels = train_labels[order]"
      ],
      "execution_count": 0,
      "outputs": []
    },
    {
      "metadata": {
        "id": "Vna3wAMJlXjP",
        "colab_type": "text"
      },
      "cell_type": "markdown",
      "source": [
        "### 1.1 Example and features"
      ]
    },
    {
      "metadata": {
        "id": "hh1dgRH8laPC",
        "colab_type": "text"
      },
      "cell_type": "markdown",
      "source": [
        "This dataset is much smaller than the others , it has total 506 total examples are aplit between 404 training examples and 102 test examples"
      ]
    },
    {
      "metadata": {
        "id": "HT1ARnDBlV74",
        "colab_type": "code",
        "colab": {
          "base_uri": "https://localhost:8080/",
          "height": 50
        },
        "outputId": "9fe5ba8d-3d8e-470d-baaa-bfc32f71c4f7"
      },
      "cell_type": "code",
      "source": [
        "print(\"Training set: {}\".format(train_data.shape))\n",
        "print(\"Testing set: {}\".format(test_data.shape))"
      ],
      "execution_count": 4,
      "outputs": [
        {
          "output_type": "stream",
          "text": [
            "Training set: (404, 13)\n",
            "Testing set: (102, 13)\n"
          ],
          "name": "stdout"
        }
      ]
    },
    {
      "metadata": {
        "id": "Y0a4ee8olvat",
        "colab_type": "text"
      },
      "cell_type": "markdown",
      "source": [
        "The dataset contains 13 different features: \n",
        "\n",
        "\n",
        "\n",
        "1.   Per capita crime rate\n",
        "2.   The proportion of residential land zoned for lots over 25,000 square feet.\n",
        "3.   The proportion of non-retail business acres per town.\n",
        "4.   Charles River dummy variable( =1 if tract bounds river, 0 otherwise)\n",
        "5.   Nitric oxides concentration\n",
        "6.   The average number of rooms per dwelling\n",
        "7.   The proportion of owner-occupied units built before 1940.\n",
        "8.   Weighted distances to five Boston employment centers.\n",
        "9.   Index of accessibility to radial highways\n",
        "10. Full-value property-tax rate per $10,000.\n",
        "11. Pupil-teacher ratio by town.\n",
        "12. 1000*(Bk - 0.63) ** 2 where Bk is the proportion of Black people by town.\n",
        "13. Percentage lower stauts of the population.\n",
        "\n"
      ]
    },
    {
      "metadata": {
        "id": "jo8DwJpMlqSV",
        "colab_type": "code",
        "colab": {
          "base_uri": "https://localhost:8080/",
          "height": 67
        },
        "outputId": "ac65dea2-b5d2-4aec-edb0-bebc96cf4497"
      },
      "cell_type": "code",
      "source": [
        "print(train_data[0])"
      ],
      "execution_count": 5,
      "outputs": [
        {
          "output_type": "stream",
          "text": [
            "[7.8750e-02 4.5000e+01 3.4400e+00 0.0000e+00 4.3700e-01 6.7820e+00\n",
            " 4.1100e+01 3.7886e+00 5.0000e+00 3.9800e+02 1.5200e+01 3.9387e+02\n",
            " 6.6800e+00]\n"
          ],
          "name": "stdout"
        }
      ]
    },
    {
      "metadata": {
        "id": "crjOLAiRm4lp",
        "colab_type": "code",
        "colab": {
          "base_uri": "https://localhost:8080/",
          "height": 195
        },
        "outputId": "583d418f-f5f9-4bd6-9fc3-7383f1c316d3"
      },
      "cell_type": "code",
      "source": [
        "import pandas as pd\n",
        "\n",
        "columns_name = ['CRIM','ZN','INDUS','CHAS','NOX','RM','AGE','DIS','RAD',\n",
        "               'TAX','PTRATIO','B','LSTAT']\n",
        "\n",
        "df = pd.DataFrame(train_data,columns=columns_name)\n",
        "\n",
        "df.head()"
      ],
      "execution_count": 6,
      "outputs": [
        {
          "output_type": "execute_result",
          "data": {
            "text/html": [
              "<div>\n",
              "<style scoped>\n",
              "    .dataframe tbody tr th:only-of-type {\n",
              "        vertical-align: middle;\n",
              "    }\n",
              "\n",
              "    .dataframe tbody tr th {\n",
              "        vertical-align: top;\n",
              "    }\n",
              "\n",
              "    .dataframe thead th {\n",
              "        text-align: right;\n",
              "    }\n",
              "</style>\n",
              "<table border=\"1\" class=\"dataframe\">\n",
              "  <thead>\n",
              "    <tr style=\"text-align: right;\">\n",
              "      <th></th>\n",
              "      <th>CRIM</th>\n",
              "      <th>ZN</th>\n",
              "      <th>INDUS</th>\n",
              "      <th>CHAS</th>\n",
              "      <th>NOX</th>\n",
              "      <th>RM</th>\n",
              "      <th>AGE</th>\n",
              "      <th>DIS</th>\n",
              "      <th>RAD</th>\n",
              "      <th>TAX</th>\n",
              "      <th>PTRATIO</th>\n",
              "      <th>B</th>\n",
              "      <th>LSTAT</th>\n",
              "    </tr>\n",
              "  </thead>\n",
              "  <tbody>\n",
              "    <tr>\n",
              "      <th>0</th>\n",
              "      <td>0.07875</td>\n",
              "      <td>45.0</td>\n",
              "      <td>3.44</td>\n",
              "      <td>0.0</td>\n",
              "      <td>0.437</td>\n",
              "      <td>6.782</td>\n",
              "      <td>41.1</td>\n",
              "      <td>3.7886</td>\n",
              "      <td>5.0</td>\n",
              "      <td>398.0</td>\n",
              "      <td>15.2</td>\n",
              "      <td>393.87</td>\n",
              "      <td>6.68</td>\n",
              "    </tr>\n",
              "    <tr>\n",
              "      <th>1</th>\n",
              "      <td>4.55587</td>\n",
              "      <td>0.0</td>\n",
              "      <td>18.10</td>\n",
              "      <td>0.0</td>\n",
              "      <td>0.718</td>\n",
              "      <td>3.561</td>\n",
              "      <td>87.9</td>\n",
              "      <td>1.6132</td>\n",
              "      <td>24.0</td>\n",
              "      <td>666.0</td>\n",
              "      <td>20.2</td>\n",
              "      <td>354.70</td>\n",
              "      <td>7.12</td>\n",
              "    </tr>\n",
              "    <tr>\n",
              "      <th>2</th>\n",
              "      <td>0.09604</td>\n",
              "      <td>40.0</td>\n",
              "      <td>6.41</td>\n",
              "      <td>0.0</td>\n",
              "      <td>0.447</td>\n",
              "      <td>6.854</td>\n",
              "      <td>42.8</td>\n",
              "      <td>4.2673</td>\n",
              "      <td>4.0</td>\n",
              "      <td>254.0</td>\n",
              "      <td>17.6</td>\n",
              "      <td>396.90</td>\n",
              "      <td>2.98</td>\n",
              "    </tr>\n",
              "    <tr>\n",
              "      <th>3</th>\n",
              "      <td>0.01870</td>\n",
              "      <td>85.0</td>\n",
              "      <td>4.15</td>\n",
              "      <td>0.0</td>\n",
              "      <td>0.429</td>\n",
              "      <td>6.516</td>\n",
              "      <td>27.7</td>\n",
              "      <td>8.5353</td>\n",
              "      <td>4.0</td>\n",
              "      <td>351.0</td>\n",
              "      <td>17.9</td>\n",
              "      <td>392.43</td>\n",
              "      <td>6.36</td>\n",
              "    </tr>\n",
              "    <tr>\n",
              "      <th>4</th>\n",
              "      <td>0.52693</td>\n",
              "      <td>0.0</td>\n",
              "      <td>6.20</td>\n",
              "      <td>0.0</td>\n",
              "      <td>0.504</td>\n",
              "      <td>8.725</td>\n",
              "      <td>83.0</td>\n",
              "      <td>2.8944</td>\n",
              "      <td>8.0</td>\n",
              "      <td>307.0</td>\n",
              "      <td>17.4</td>\n",
              "      <td>382.00</td>\n",
              "      <td>4.63</td>\n",
              "    </tr>\n",
              "  </tbody>\n",
              "</table>\n",
              "</div>"
            ],
            "text/plain": [
              "      CRIM    ZN  INDUS  CHAS    NOX     RM   AGE     DIS   RAD    TAX  \\\n",
              "0  0.07875  45.0   3.44   0.0  0.437  6.782  41.1  3.7886   5.0  398.0   \n",
              "1  4.55587   0.0  18.10   0.0  0.718  3.561  87.9  1.6132  24.0  666.0   \n",
              "2  0.09604  40.0   6.41   0.0  0.447  6.854  42.8  4.2673   4.0  254.0   \n",
              "3  0.01870  85.0   4.15   0.0  0.429  6.516  27.7  8.5353   4.0  351.0   \n",
              "4  0.52693   0.0   6.20   0.0  0.504  8.725  83.0  2.8944   8.0  307.0   \n",
              "\n",
              "   PTRATIO       B  LSTAT  \n",
              "0     15.2  393.87   6.68  \n",
              "1     20.2  354.70   7.12  \n",
              "2     17.6  396.90   2.98  \n",
              "3     17.9  392.43   6.36  \n",
              "4     17.4  382.00   4.63  "
            ]
          },
          "metadata": {
            "tags": []
          },
          "execution_count": 6
        }
      ]
    },
    {
      "metadata": {
        "id": "o1IH_BRZndOS",
        "colab_type": "text"
      },
      "cell_type": "markdown",
      "source": [
        "### 1.2 Labels"
      ]
    },
    {
      "metadata": {
        "id": "6l9Okjwnnfdx",
        "colab_type": "text"
      },
      "cell_type": "markdown",
      "source": [
        "The labels are the house prices in thousands of dollars"
      ]
    },
    {
      "metadata": {
        "id": "yV7DnyHtnY2l",
        "colab_type": "code",
        "colab": {
          "base_uri": "https://localhost:8080/",
          "height": 34
        },
        "outputId": "140255a3-42ad-4317-b169-cc783d706fbf"
      },
      "cell_type": "code",
      "source": [
        "print(train_labels[0:10])"
      ],
      "execution_count": 7,
      "outputs": [
        {
          "output_type": "stream",
          "text": [
            "[32.  27.5 32.  23.1 50.  20.6 22.6 36.2 21.8 19.5]\n"
          ],
          "name": "stdout"
        }
      ]
    },
    {
      "metadata": {
        "id": "vzZ9etU4nsaI",
        "colab_type": "text"
      },
      "cell_type": "markdown",
      "source": [
        "##  2. Data Preprocessing"
      ]
    },
    {
      "metadata": {
        "id": "ySwm9Gnpnu9C",
        "colab_type": "text"
      },
      "cell_type": "markdown",
      "source": [
        "### 2.1 Normalize features"
      ]
    },
    {
      "metadata": {
        "id": "qpw9LVYZnyNv",
        "colab_type": "text"
      },
      "cell_type": "markdown",
      "source": [
        "It's recommended to normalize feature that use different scales and ranges. For each feature, substract the mean of the feature and divide by the standard deviation."
      ]
    },
    {
      "metadata": {
        "id": "hg4s7PV0nk3r",
        "colab_type": "code",
        "colab": {
          "base_uri": "https://localhost:8080/",
          "height": 67
        },
        "outputId": "e7b4ac89-27ef-46c1-da3f-a597991ac5e9"
      },
      "cell_type": "code",
      "source": [
        "mean = train_data.mean(axis=0)\n",
        "std = train_data.std(axis=0)\n",
        "\n",
        "train_data = (train_data - mean)/std\n",
        "test_data = (test_data - mean)/std\n",
        "\n",
        "print(train_data[0])"
      ],
      "execution_count": 8,
      "outputs": [
        {
          "output_type": "stream",
          "text": [
            "[-0.39725269  1.41205707 -1.12664623 -0.25683275 -1.027385    0.72635358\n",
            " -1.00016413  0.02383449 -0.51114231 -0.04753316 -1.49067405  0.41584124\n",
            " -0.83648691]\n"
          ],
          "name": "stdout"
        }
      ]
    },
    {
      "metadata": {
        "id": "dAWyjTg9oxx4",
        "colab_type": "text"
      },
      "cell_type": "markdown",
      "source": [
        "## 3. Create the model"
      ]
    },
    {
      "metadata": {
        "id": "mkhbqEEtosdm",
        "colab_type": "code",
        "colab": {
          "base_uri": "https://localhost:8080/",
          "height": 235
        },
        "outputId": "bdea206a-285d-426b-b418-6d8335299658"
      },
      "cell_type": "code",
      "source": [
        "def build_model():\n",
        "    model = keras.Sequential([\n",
        "        keras.layers.Dense(64, activation=tf.nn.relu,\n",
        "                          input_shape=(train_data.shape[1],)),\n",
        "        keras.layers.Dense(64, activation=tf.nn.relu),\n",
        "        keras.layers.Dense(1)\n",
        "    ])\n",
        "    \n",
        "    optimizer = tf.train.RMSPropOptimizer(0.001)\n",
        "    \n",
        "    model.compile(loss='mse',\n",
        "                 optimizer=optimizer,\n",
        "                 metrics=['mae'])\n",
        "    return model\n",
        "\n",
        "model = build_model()\n",
        "model.summary()"
      ],
      "execution_count": 13,
      "outputs": [
        {
          "output_type": "stream",
          "text": [
            "_________________________________________________________________\n",
            "Layer (type)                 Output Shape              Param #   \n",
            "=================================================================\n",
            "dense_3 (Dense)              (None, 64)                896       \n",
            "_________________________________________________________________\n",
            "dense_4 (Dense)              (None, 64)                4160      \n",
            "_________________________________________________________________\n",
            "dense_5 (Dense)              (None, 1)                 65        \n",
            "=================================================================\n",
            "Total params: 5,121\n",
            "Trainable params: 5,121\n",
            "Non-trainable params: 0\n",
            "_________________________________________________________________\n"
          ],
          "name": "stdout"
        }
      ]
    },
    {
      "metadata": {
        "id": "uxVwnG9uphVe",
        "colab_type": "text"
      },
      "cell_type": "markdown",
      "source": [
        "## 4. Train the model"
      ]
    },
    {
      "metadata": {
        "id": "hwy-WVkapaEQ",
        "colab_type": "code",
        "colab": {
          "base_uri": "https://localhost:8080/",
          "height": 118
        },
        "outputId": "a67a8994-9f6d-4d19-ac57-d941ddd19801"
      },
      "cell_type": "code",
      "source": [
        "class PrintDot(keras.callbacks.Callback):\n",
        "    def on_epoch_end(self,epoch,logs):\n",
        "        if epoch % 100 == 0:\n",
        "            print('')\n",
        "        print('.',end='')\n",
        "        \n",
        "EPOCHS = 500\n",
        "\n",
        "history = model.fit(train_data,train_labels,epochs=EPOCHS,\n",
        "                   validation_split=0.2,verbose=0,\n",
        "                   callbacks=[PrintDot()])"
      ],
      "execution_count": 14,
      "outputs": [
        {
          "output_type": "stream",
          "text": [
            "\n",
            "....................................................................................................\n",
            "....................................................................................................\n",
            "....................................................................................................\n",
            "....................................................................................................\n",
            "...................................................................................................."
          ],
          "name": "stdout"
        }
      ]
    },
    {
      "metadata": {
        "id": "eAu_GR_jdnl3",
        "colab_type": "text"
      },
      "cell_type": "markdown",
      "source": [
        "Visualize the model's training progress using the stats stored in the `history` object. We want to use this data to determine how long to train before the model stops making progress"
      ]
    },
    {
      "metadata": {
        "id": "nT48B4Gtp-d2",
        "colab_type": "code",
        "colab": {
          "base_uri": "https://localhost:8080/",
          "height": 365
        },
        "outputId": "2a496e04-a67e-4d81-9d9f-82a34229190b"
      },
      "cell_type": "code",
      "source": [
        "import matplotlib.pyplot as plt\n",
        "plt.style.use('seaborn-white')\n",
        "\n",
        "def plt_history(history):\n",
        "    plt.figure()\n",
        "    plt.xlabel('Epoch')\n",
        "    plt.ylabel('Mean Abs Error [100$]')\n",
        "    plt.plot(history.epoch, np.array(history.history['mean_absolute_error']),\n",
        "            label='Train Loss')\n",
        "    plt.plot(history.epoch, np.array(history.history['val_mean_absolute_error']),\n",
        "            label=' Val Loss')\n",
        "    plt.legend()\n",
        "    plt.grid('on')\n",
        "    plt.ylim([0,5])\n",
        "    \n",
        "plt_history(history)"
      ],
      "execution_count": 18,
      "outputs": [
        {
          "output_type": "display_data",
          "data": {
            "image/png": "[encoded data removed]",
            "text/plain": [
              "<matplotlib.figure.Figure at 0x7f073c53c048>"
            ]
          },
          "metadata": {
            "tags": []
          }
        }
      ]
    },
    {
      "metadata": {
        "id": "Y3EuYFRwfOL5",
        "colab_type": "text"
      },
      "cell_type": "markdown",
      "source": [
        "This graph shows little improvement in the model after about 200 epochs. We will use a `callback` that tests a training condition for every epoch. If a set amount of epohcs elapes without showing improvement, then automatically stop the training."
      ]
    },
    {
      "metadata": {
        "id": "a1FN6TN9eeVB",
        "colab_type": "code",
        "colab": {
          "base_uri": "https://localhost:8080/",
          "height": 415
        },
        "outputId": "a46c6f71-d514-44ec-9b42-62007314b2d2"
      },
      "cell_type": "code",
      "source": [
        "model = build_model()\n",
        "\n",
        "early_stop = keras.callbacks.EarlyStopping(monitor='val_loss',patience=20)\n",
        "\n",
        "history = model.fit(train_data, train_labels, epochs=EPOCHS,\n",
        "                   validation_split=0.2, verbose=0,\n",
        "                   callbacks=[early_stop,PrintDot()])\n",
        "\n",
        "plt_history(history)"
      ],
      "execution_count": 21,
      "outputs": [
        {
          "output_type": "stream",
          "text": [
            "\n",
            "....................................................................................................\n",
            "..................................................................................."
          ],
          "name": "stdout"
        },
        {
          "output_type": "display_data",
          "data": {
            "image/png": "[encoded data removed]",
            "text/plain": [
              "<matplotlib.figure.Figure at 0x7f073d2b15f8>"
            ]
          },
          "metadata": {
            "tags": []
          }
        }
      ]
    },
    {
      "metadata": {
        "id": "FCT-HvkLgbrg",
        "colab_type": "text"
      },
      "cell_type": "markdown",
      "source": [
        "## 5. Model Evaluation"
      ]
    },
    {
      "metadata": {
        "id": "waQbtZUHetV9",
        "colab_type": "code",
        "colab": {
          "base_uri": "https://localhost:8080/",
          "height": 34
        },
        "outputId": "1a51eb2c-355a-4a99-daf0-73472e1b155f"
      },
      "cell_type": "code",
      "source": [
        "[loss, mae] = model.evaluate(x=test_data, y=test_labels, verbose=0)\n",
        "\n",
        "print(\"Testing set Mean Abs Error: ${:7.2f}\".format(mae*1000))"
      ],
      "execution_count": 23,
      "outputs": [
        {
          "output_type": "stream",
          "text": [
            "Testing set Mean Abs Error: $2686.36\n"
          ],
          "name": "stdout"
        }
      ]
    },
    {
      "metadata": {
        "id": "8Ew1Qv-9g05D",
        "colab_type": "text"
      },
      "cell_type": "markdown",
      "source": [
        "## 6. Predict the housing prices"
      ]
    },
    {
      "metadata": {
        "id": "VZOSLJbtgvVU",
        "colab_type": "code",
        "colab": {
          "base_uri": "https://localhost:8080/",
          "height": 302
        },
        "outputId": "c002fd1f-545e-4315-964a-213b38428912"
      },
      "cell_type": "code",
      "source": [
        "test_predictions = model.predict(test_data).flatten()\n",
        "\n",
        "print(test_predictions)"
      ],
      "execution_count": 24,
      "outputs": [
        {
          "output_type": "stream",
          "text": [
            "[ 8.761633  19.302397  22.60368   35.311092  27.208616  23.031246\n",
            " 26.64563   22.830471  19.378937  22.673407  19.639408  16.84214\n",
            " 15.550776  43.380074  20.254665  21.352446  27.273918  19.56164\n",
            " 19.86576   27.382135  11.565866  15.210098  22.117735  17.464167\n",
            " 21.67757   25.674793  30.115765  31.203121  11.134534  20.546469\n",
            " 20.841606  15.5859785 34.716953  25.341606  19.430056   8.64212\n",
            " 18.091457  16.436504  20.341122  26.852966  33.391956  30.033377\n",
            " 13.57053   44.62677   31.63357   27.106796  29.04086   19.901903\n",
            " 22.428854  24.125408  35.39902   21.370848  10.68087   15.744433\n",
            " 37.001198  29.779123  11.94151   50.844234  35.91924   25.722786\n",
            " 25.845541  15.962705  14.953382  20.406488  24.83179   22.290573\n",
            " 14.246566  23.23482   12.964313   7.276164  26.800303  30.377548\n",
            " 26.803507  13.94298   26.075308  19.422289  19.693272  25.448818\n",
            " 36.596134  10.660322  22.975077  38.998764  16.200083  13.503616\n",
            " 18.743736  19.98813   20.752502  20.136784  21.395601  34.828957\n",
            " 22.673208  20.476587  27.675508  42.06359   37.63216   21.91021\n",
            " 36.314243  51.592724  27.297672  48.38935   31.660887  19.472431 ]\n"
          ],
          "name": "stdout"
        }
      ]
    },
    {
      "metadata": {
        "id": "0zXA9thRg8kH",
        "colab_type": "code",
        "colab": {}
      },
      "cell_type": "code",
      "source": [
        ""
      ],
      "execution_count": 0,
      "outputs": []
    }
  ]
}